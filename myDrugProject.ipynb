{
 "cells": [
  {
   "cell_type": "markdown",
   "metadata": {},
   "source": [
    "# Drug Consumption kNN and Confusion Matrix"
   ]
  },
  {
   "cell_type": "code",
   "execution_count": 1,
   "metadata": {},
   "outputs": [],
   "source": [
    "#importing libraries that I am going to use\n",
    "import pandas as pd\n",
    "import numpy as np\n",
    "import matplotlib.pyplot as plt\n",
    "%matplotlib inline\n",
    "import sklearn\n",
    "import seaborn as sns"
   ]
  },
  {
   "cell_type": "code",
   "execution_count": 2,
   "metadata": {},
   "outputs": [
    {
     "data": {
      "text/html": [
       "<div>\n",
       "<style scoped>\n",
       "    .dataframe tbody tr th:only-of-type {\n",
       "        vertical-align: middle;\n",
       "    }\n",
       "\n",
       "    .dataframe tbody tr th {\n",
       "        vertical-align: top;\n",
       "    }\n",
       "\n",
       "    .dataframe thead th {\n",
       "        text-align: right;\n",
       "    }\n",
       "</style>\n",
       "<table border=\"1\" class=\"dataframe\">\n",
       "  <thead>\n",
       "    <tr style=\"text-align: right;\">\n",
       "      <th></th>\n",
       "      <th>0</th>\n",
       "      <th>1</th>\n",
       "      <th>2</th>\n",
       "      <th>3</th>\n",
       "      <th>4</th>\n",
       "      <th>5</th>\n",
       "      <th>6</th>\n",
       "      <th>7</th>\n",
       "      <th>8</th>\n",
       "      <th>9</th>\n",
       "      <th>10</th>\n",
       "      <th>11</th>\n",
       "      <th>12</th>\n",
       "      <th>13</th>\n",
       "      <th>14</th>\n",
       "      <th>15</th>\n",
       "      <th>16</th>\n",
       "      <th>17</th>\n",
       "      <th>18</th>\n",
       "      <th>19</th>\n",
       "      <th>20</th>\n",
       "      <th>21</th>\n",
       "      <th>22</th>\n",
       "      <th>23</th>\n",
       "      <th>24</th>\n",
       "      <th>25</th>\n",
       "      <th>26</th>\n",
       "      <th>27</th>\n",
       "      <th>28</th>\n",
       "      <th>29</th>\n",
       "      <th>30</th>\n",
       "      <th>31</th>\n",
       "    </tr>\n",
       "  </thead>\n",
       "  <tbody>\n",
       "    <tr>\n",
       "      <th>0</th>\n",
       "      <td>1</td>\n",
       "      <td>0.49788</td>\n",
       "      <td>0.48246</td>\n",
       "      <td>-0.05921</td>\n",
       "      <td>0.96082</td>\n",
       "      <td>0.12600</td>\n",
       "      <td>0.31287</td>\n",
       "      <td>-0.57545</td>\n",
       "      <td>-0.58331</td>\n",
       "      <td>-0.91699</td>\n",
       "      <td>-0.00665</td>\n",
       "      <td>-0.21712</td>\n",
       "      <td>-1.18084</td>\n",
       "      <td>CL5</td>\n",
       "      <td>CL2</td>\n",
       "      <td>CL0</td>\n",
       "      <td>CL2</td>\n",
       "      <td>CL6</td>\n",
       "      <td>CL0</td>\n",
       "      <td>CL5</td>\n",
       "      <td>CL0</td>\n",
       "      <td>CL0</td>\n",
       "      <td>CL0</td>\n",
       "      <td>CL0</td>\n",
       "      <td>CL0</td>\n",
       "      <td>CL0</td>\n",
       "      <td>CL0</td>\n",
       "      <td>CL0</td>\n",
       "      <td>CL0</td>\n",
       "      <td>CL2</td>\n",
       "      <td>CL0</td>\n",
       "      <td>CL0</td>\n",
       "    </tr>\n",
       "    <tr>\n",
       "      <th>1</th>\n",
       "      <td>2</td>\n",
       "      <td>-0.07854</td>\n",
       "      <td>-0.48246</td>\n",
       "      <td>1.98437</td>\n",
       "      <td>0.96082</td>\n",
       "      <td>-0.31685</td>\n",
       "      <td>-0.67825</td>\n",
       "      <td>1.93886</td>\n",
       "      <td>1.43533</td>\n",
       "      <td>0.76096</td>\n",
       "      <td>-0.14277</td>\n",
       "      <td>-0.71126</td>\n",
       "      <td>-0.21575</td>\n",
       "      <td>CL5</td>\n",
       "      <td>CL2</td>\n",
       "      <td>CL2</td>\n",
       "      <td>CL0</td>\n",
       "      <td>CL6</td>\n",
       "      <td>CL4</td>\n",
       "      <td>CL6</td>\n",
       "      <td>CL3</td>\n",
       "      <td>CL0</td>\n",
       "      <td>CL4</td>\n",
       "      <td>CL0</td>\n",
       "      <td>CL2</td>\n",
       "      <td>CL0</td>\n",
       "      <td>CL2</td>\n",
       "      <td>CL3</td>\n",
       "      <td>CL0</td>\n",
       "      <td>CL4</td>\n",
       "      <td>CL0</td>\n",
       "      <td>CL0</td>\n",
       "    </tr>\n",
       "    <tr>\n",
       "      <th>2</th>\n",
       "      <td>3</td>\n",
       "      <td>0.49788</td>\n",
       "      <td>-0.48246</td>\n",
       "      <td>-0.05921</td>\n",
       "      <td>0.96082</td>\n",
       "      <td>-0.31685</td>\n",
       "      <td>-0.46725</td>\n",
       "      <td>0.80523</td>\n",
       "      <td>-0.84732</td>\n",
       "      <td>-1.62090</td>\n",
       "      <td>-1.01450</td>\n",
       "      <td>-1.37983</td>\n",
       "      <td>0.40148</td>\n",
       "      <td>CL6</td>\n",
       "      <td>CL0</td>\n",
       "      <td>CL0</td>\n",
       "      <td>CL0</td>\n",
       "      <td>CL6</td>\n",
       "      <td>CL3</td>\n",
       "      <td>CL4</td>\n",
       "      <td>CL0</td>\n",
       "      <td>CL0</td>\n",
       "      <td>CL0</td>\n",
       "      <td>CL0</td>\n",
       "      <td>CL0</td>\n",
       "      <td>CL0</td>\n",
       "      <td>CL0</td>\n",
       "      <td>CL0</td>\n",
       "      <td>CL1</td>\n",
       "      <td>CL0</td>\n",
       "      <td>CL0</td>\n",
       "      <td>CL0</td>\n",
       "    </tr>\n",
       "    <tr>\n",
       "      <th>3</th>\n",
       "      <td>4</td>\n",
       "      <td>-0.95197</td>\n",
       "      <td>0.48246</td>\n",
       "      <td>1.16365</td>\n",
       "      <td>0.96082</td>\n",
       "      <td>-0.31685</td>\n",
       "      <td>-0.14882</td>\n",
       "      <td>-0.80615</td>\n",
       "      <td>-0.01928</td>\n",
       "      <td>0.59042</td>\n",
       "      <td>0.58489</td>\n",
       "      <td>-1.37983</td>\n",
       "      <td>-1.18084</td>\n",
       "      <td>CL4</td>\n",
       "      <td>CL0</td>\n",
       "      <td>CL0</td>\n",
       "      <td>CL3</td>\n",
       "      <td>CL5</td>\n",
       "      <td>CL2</td>\n",
       "      <td>CL4</td>\n",
       "      <td>CL2</td>\n",
       "      <td>CL0</td>\n",
       "      <td>CL0</td>\n",
       "      <td>CL0</td>\n",
       "      <td>CL2</td>\n",
       "      <td>CL0</td>\n",
       "      <td>CL0</td>\n",
       "      <td>CL0</td>\n",
       "      <td>CL0</td>\n",
       "      <td>CL2</td>\n",
       "      <td>CL0</td>\n",
       "      <td>CL0</td>\n",
       "    </tr>\n",
       "    <tr>\n",
       "      <th>4</th>\n",
       "      <td>5</td>\n",
       "      <td>0.49788</td>\n",
       "      <td>0.48246</td>\n",
       "      <td>1.98437</td>\n",
       "      <td>0.96082</td>\n",
       "      <td>-0.31685</td>\n",
       "      <td>0.73545</td>\n",
       "      <td>-1.63340</td>\n",
       "      <td>-0.45174</td>\n",
       "      <td>-0.30172</td>\n",
       "      <td>1.30612</td>\n",
       "      <td>-0.21712</td>\n",
       "      <td>-0.21575</td>\n",
       "      <td>CL4</td>\n",
       "      <td>CL1</td>\n",
       "      <td>CL1</td>\n",
       "      <td>CL0</td>\n",
       "      <td>CL6</td>\n",
       "      <td>CL3</td>\n",
       "      <td>CL6</td>\n",
       "      <td>CL0</td>\n",
       "      <td>CL0</td>\n",
       "      <td>CL1</td>\n",
       "      <td>CL0</td>\n",
       "      <td>CL0</td>\n",
       "      <td>CL1</td>\n",
       "      <td>CL0</td>\n",
       "      <td>CL0</td>\n",
       "      <td>CL2</td>\n",
       "      <td>CL2</td>\n",
       "      <td>CL0</td>\n",
       "      <td>CL0</td>\n",
       "    </tr>\n",
       "  </tbody>\n",
       "</table>\n",
       "</div>"
      ],
      "text/plain": [
       "   0        1        2        3        4        5        6        7        8   \\\n",
       "0   1  0.49788  0.48246 -0.05921  0.96082  0.12600  0.31287 -0.57545 -0.58331   \n",
       "1   2 -0.07854 -0.48246  1.98437  0.96082 -0.31685 -0.67825  1.93886  1.43533   \n",
       "2   3  0.49788 -0.48246 -0.05921  0.96082 -0.31685 -0.46725  0.80523 -0.84732   \n",
       "3   4 -0.95197  0.48246  1.16365  0.96082 -0.31685 -0.14882 -0.80615 -0.01928   \n",
       "4   5  0.49788  0.48246  1.98437  0.96082 -0.31685  0.73545 -1.63340 -0.45174   \n",
       "\n",
       "        9        10       11       12   13   14   15   16   17   18   19   20  \\\n",
       "0 -0.91699 -0.00665 -0.21712 -1.18084  CL5  CL2  CL0  CL2  CL6  CL0  CL5  CL0   \n",
       "1  0.76096 -0.14277 -0.71126 -0.21575  CL5  CL2  CL2  CL0  CL6  CL4  CL6  CL3   \n",
       "2 -1.62090 -1.01450 -1.37983  0.40148  CL6  CL0  CL0  CL0  CL6  CL3  CL4  CL0   \n",
       "3  0.59042  0.58489 -1.37983 -1.18084  CL4  CL0  CL0  CL3  CL5  CL2  CL4  CL2   \n",
       "4 -0.30172  1.30612 -0.21712 -0.21575  CL4  CL1  CL1  CL0  CL6  CL3  CL6  CL0   \n",
       "\n",
       "    21   22   23   24   25   26   27   28   29   30   31  \n",
       "0  CL0  CL0  CL0  CL0  CL0  CL0  CL0  CL0  CL2  CL0  CL0  \n",
       "1  CL0  CL4  CL0  CL2  CL0  CL2  CL3  CL0  CL4  CL0  CL0  \n",
       "2  CL0  CL0  CL0  CL0  CL0  CL0  CL0  CL1  CL0  CL0  CL0  \n",
       "3  CL0  CL0  CL0  CL2  CL0  CL0  CL0  CL0  CL2  CL0  CL0  \n",
       "4  CL0  CL1  CL0  CL0  CL1  CL0  CL0  CL2  CL2  CL0  CL0  "
      ]
     },
     "execution_count": 2,
     "metadata": {},
     "output_type": "execute_result"
    }
   ],
   "source": [
    "#importing dataset\n",
    "df = pd.read_csv('drug_consumption.csv', header = None)\n",
    "pd.set_option('display.max_columns', 50)\n",
    "df.head()"
   ]
  },
  {
   "cell_type": "code",
   "execution_count": 3,
   "metadata": {},
   "outputs": [],
   "source": [
    "#putting column names\n",
    "df.columns = [\"ID\", \"Age\", \"Gender\", \"Education\", \"Country\", \"Ethnicity\", \"Nscore\", \"Escore\", \"Oscore\", \"Ascore\", \n",
    "              \"Cscore\", \"Impulsive\", \"SS\", \"Alcohol\", \"Amphet\", \"Amyl\", \"Benzos\", \"Caff\", \"Cannabis\", \"Choc\", \"Coke\", \n",
    "              \"Crack\", \"Ecstasy\", \"Heroin\", \"Ketamine\", \"Legalh\", \"LSD\", \"Meth\", \"Mushrooms\", \"Nicotine\", \"Semer\", \"VSA\"]"
   ]
  },
  {
   "cell_type": "code",
   "execution_count": 4,
   "metadata": {},
   "outputs": [
    {
     "data": {
      "text/html": [
       "<div>\n",
       "<style scoped>\n",
       "    .dataframe tbody tr th:only-of-type {\n",
       "        vertical-align: middle;\n",
       "    }\n",
       "\n",
       "    .dataframe tbody tr th {\n",
       "        vertical-align: top;\n",
       "    }\n",
       "\n",
       "    .dataframe thead th {\n",
       "        text-align: right;\n",
       "    }\n",
       "</style>\n",
       "<table border=\"1\" class=\"dataframe\">\n",
       "  <thead>\n",
       "    <tr style=\"text-align: right;\">\n",
       "      <th></th>\n",
       "      <th>ID</th>\n",
       "      <th>Age</th>\n",
       "      <th>Gender</th>\n",
       "      <th>Education</th>\n",
       "      <th>Country</th>\n",
       "      <th>Ethnicity</th>\n",
       "      <th>Nscore</th>\n",
       "      <th>Escore</th>\n",
       "      <th>Oscore</th>\n",
       "      <th>Ascore</th>\n",
       "      <th>Cscore</th>\n",
       "      <th>Impulsive</th>\n",
       "      <th>SS</th>\n",
       "      <th>Alcohol</th>\n",
       "      <th>Amphet</th>\n",
       "      <th>Amyl</th>\n",
       "      <th>Benzos</th>\n",
       "      <th>Caff</th>\n",
       "      <th>Cannabis</th>\n",
       "      <th>Choc</th>\n",
       "      <th>Coke</th>\n",
       "      <th>Crack</th>\n",
       "      <th>Ecstasy</th>\n",
       "      <th>Heroin</th>\n",
       "      <th>Ketamine</th>\n",
       "      <th>Legalh</th>\n",
       "      <th>LSD</th>\n",
       "      <th>Meth</th>\n",
       "      <th>Mushrooms</th>\n",
       "      <th>Nicotine</th>\n",
       "      <th>Semer</th>\n",
       "      <th>VSA</th>\n",
       "    </tr>\n",
       "  </thead>\n",
       "  <tbody>\n",
       "    <tr>\n",
       "      <th>0</th>\n",
       "      <td>1</td>\n",
       "      <td>0.49788</td>\n",
       "      <td>0.48246</td>\n",
       "      <td>-0.05921</td>\n",
       "      <td>0.96082</td>\n",
       "      <td>0.12600</td>\n",
       "      <td>0.31287</td>\n",
       "      <td>-0.57545</td>\n",
       "      <td>-0.58331</td>\n",
       "      <td>-0.91699</td>\n",
       "      <td>-0.00665</td>\n",
       "      <td>-0.21712</td>\n",
       "      <td>-1.18084</td>\n",
       "      <td>CL5</td>\n",
       "      <td>CL2</td>\n",
       "      <td>CL0</td>\n",
       "      <td>CL2</td>\n",
       "      <td>CL6</td>\n",
       "      <td>CL0</td>\n",
       "      <td>CL5</td>\n",
       "      <td>CL0</td>\n",
       "      <td>CL0</td>\n",
       "      <td>CL0</td>\n",
       "      <td>CL0</td>\n",
       "      <td>CL0</td>\n",
       "      <td>CL0</td>\n",
       "      <td>CL0</td>\n",
       "      <td>CL0</td>\n",
       "      <td>CL0</td>\n",
       "      <td>CL2</td>\n",
       "      <td>CL0</td>\n",
       "      <td>CL0</td>\n",
       "    </tr>\n",
       "    <tr>\n",
       "      <th>1</th>\n",
       "      <td>2</td>\n",
       "      <td>-0.07854</td>\n",
       "      <td>-0.48246</td>\n",
       "      <td>1.98437</td>\n",
       "      <td>0.96082</td>\n",
       "      <td>-0.31685</td>\n",
       "      <td>-0.67825</td>\n",
       "      <td>1.93886</td>\n",
       "      <td>1.43533</td>\n",
       "      <td>0.76096</td>\n",
       "      <td>-0.14277</td>\n",
       "      <td>-0.71126</td>\n",
       "      <td>-0.21575</td>\n",
       "      <td>CL5</td>\n",
       "      <td>CL2</td>\n",
       "      <td>CL2</td>\n",
       "      <td>CL0</td>\n",
       "      <td>CL6</td>\n",
       "      <td>CL4</td>\n",
       "      <td>CL6</td>\n",
       "      <td>CL3</td>\n",
       "      <td>CL0</td>\n",
       "      <td>CL4</td>\n",
       "      <td>CL0</td>\n",
       "      <td>CL2</td>\n",
       "      <td>CL0</td>\n",
       "      <td>CL2</td>\n",
       "      <td>CL3</td>\n",
       "      <td>CL0</td>\n",
       "      <td>CL4</td>\n",
       "      <td>CL0</td>\n",
       "      <td>CL0</td>\n",
       "    </tr>\n",
       "    <tr>\n",
       "      <th>2</th>\n",
       "      <td>3</td>\n",
       "      <td>0.49788</td>\n",
       "      <td>-0.48246</td>\n",
       "      <td>-0.05921</td>\n",
       "      <td>0.96082</td>\n",
       "      <td>-0.31685</td>\n",
       "      <td>-0.46725</td>\n",
       "      <td>0.80523</td>\n",
       "      <td>-0.84732</td>\n",
       "      <td>-1.62090</td>\n",
       "      <td>-1.01450</td>\n",
       "      <td>-1.37983</td>\n",
       "      <td>0.40148</td>\n",
       "      <td>CL6</td>\n",
       "      <td>CL0</td>\n",
       "      <td>CL0</td>\n",
       "      <td>CL0</td>\n",
       "      <td>CL6</td>\n",
       "      <td>CL3</td>\n",
       "      <td>CL4</td>\n",
       "      <td>CL0</td>\n",
       "      <td>CL0</td>\n",
       "      <td>CL0</td>\n",
       "      <td>CL0</td>\n",
       "      <td>CL0</td>\n",
       "      <td>CL0</td>\n",
       "      <td>CL0</td>\n",
       "      <td>CL0</td>\n",
       "      <td>CL1</td>\n",
       "      <td>CL0</td>\n",
       "      <td>CL0</td>\n",
       "      <td>CL0</td>\n",
       "    </tr>\n",
       "    <tr>\n",
       "      <th>3</th>\n",
       "      <td>4</td>\n",
       "      <td>-0.95197</td>\n",
       "      <td>0.48246</td>\n",
       "      <td>1.16365</td>\n",
       "      <td>0.96082</td>\n",
       "      <td>-0.31685</td>\n",
       "      <td>-0.14882</td>\n",
       "      <td>-0.80615</td>\n",
       "      <td>-0.01928</td>\n",
       "      <td>0.59042</td>\n",
       "      <td>0.58489</td>\n",
       "      <td>-1.37983</td>\n",
       "      <td>-1.18084</td>\n",
       "      <td>CL4</td>\n",
       "      <td>CL0</td>\n",
       "      <td>CL0</td>\n",
       "      <td>CL3</td>\n",
       "      <td>CL5</td>\n",
       "      <td>CL2</td>\n",
       "      <td>CL4</td>\n",
       "      <td>CL2</td>\n",
       "      <td>CL0</td>\n",
       "      <td>CL0</td>\n",
       "      <td>CL0</td>\n",
       "      <td>CL2</td>\n",
       "      <td>CL0</td>\n",
       "      <td>CL0</td>\n",
       "      <td>CL0</td>\n",
       "      <td>CL0</td>\n",
       "      <td>CL2</td>\n",
       "      <td>CL0</td>\n",
       "      <td>CL0</td>\n",
       "    </tr>\n",
       "    <tr>\n",
       "      <th>4</th>\n",
       "      <td>5</td>\n",
       "      <td>0.49788</td>\n",
       "      <td>0.48246</td>\n",
       "      <td>1.98437</td>\n",
       "      <td>0.96082</td>\n",
       "      <td>-0.31685</td>\n",
       "      <td>0.73545</td>\n",
       "      <td>-1.63340</td>\n",
       "      <td>-0.45174</td>\n",
       "      <td>-0.30172</td>\n",
       "      <td>1.30612</td>\n",
       "      <td>-0.21712</td>\n",
       "      <td>-0.21575</td>\n",
       "      <td>CL4</td>\n",
       "      <td>CL1</td>\n",
       "      <td>CL1</td>\n",
       "      <td>CL0</td>\n",
       "      <td>CL6</td>\n",
       "      <td>CL3</td>\n",
       "      <td>CL6</td>\n",
       "      <td>CL0</td>\n",
       "      <td>CL0</td>\n",
       "      <td>CL1</td>\n",
       "      <td>CL0</td>\n",
       "      <td>CL0</td>\n",
       "      <td>CL1</td>\n",
       "      <td>CL0</td>\n",
       "      <td>CL0</td>\n",
       "      <td>CL2</td>\n",
       "      <td>CL2</td>\n",
       "      <td>CL0</td>\n",
       "      <td>CL0</td>\n",
       "    </tr>\n",
       "  </tbody>\n",
       "</table>\n",
       "</div>"
      ],
      "text/plain": [
       "   ID      Age   Gender  Education  Country  Ethnicity   Nscore   Escore  \\\n",
       "0   1  0.49788  0.48246   -0.05921  0.96082    0.12600  0.31287 -0.57545   \n",
       "1   2 -0.07854 -0.48246    1.98437  0.96082   -0.31685 -0.67825  1.93886   \n",
       "2   3  0.49788 -0.48246   -0.05921  0.96082   -0.31685 -0.46725  0.80523   \n",
       "3   4 -0.95197  0.48246    1.16365  0.96082   -0.31685 -0.14882 -0.80615   \n",
       "4   5  0.49788  0.48246    1.98437  0.96082   -0.31685  0.73545 -1.63340   \n",
       "\n",
       "    Oscore   Ascore   Cscore  Impulsive       SS Alcohol Amphet Amyl Benzos  \\\n",
       "0 -0.58331 -0.91699 -0.00665   -0.21712 -1.18084     CL5    CL2  CL0    CL2   \n",
       "1  1.43533  0.76096 -0.14277   -0.71126 -0.21575     CL5    CL2  CL2    CL0   \n",
       "2 -0.84732 -1.62090 -1.01450   -1.37983  0.40148     CL6    CL0  CL0    CL0   \n",
       "3 -0.01928  0.59042  0.58489   -1.37983 -1.18084     CL4    CL0  CL0    CL3   \n",
       "4 -0.45174 -0.30172  1.30612   -0.21712 -0.21575     CL4    CL1  CL1    CL0   \n",
       "\n",
       "  Caff Cannabis Choc Coke Crack Ecstasy Heroin Ketamine Legalh  LSD Meth  \\\n",
       "0  CL6      CL0  CL5  CL0   CL0     CL0    CL0      CL0    CL0  CL0  CL0   \n",
       "1  CL6      CL4  CL6  CL3   CL0     CL4    CL0      CL2    CL0  CL2  CL3   \n",
       "2  CL6      CL3  CL4  CL0   CL0     CL0    CL0      CL0    CL0  CL0  CL0   \n",
       "3  CL5      CL2  CL4  CL2   CL0     CL0    CL0      CL2    CL0  CL0  CL0   \n",
       "4  CL6      CL3  CL6  CL0   CL0     CL1    CL0      CL0    CL1  CL0  CL0   \n",
       "\n",
       "  Mushrooms Nicotine Semer  VSA  \n",
       "0       CL0      CL2   CL0  CL0  \n",
       "1       CL0      CL4   CL0  CL0  \n",
       "2       CL1      CL0   CL0  CL0  \n",
       "3       CL0      CL2   CL0  CL0  \n",
       "4       CL2      CL2   CL0  CL0  "
      ]
     },
     "execution_count": 4,
     "metadata": {},
     "output_type": "execute_result"
    }
   ],
   "source": [
    "df.head()"
   ]
  },
  {
   "cell_type": "code",
   "execution_count": 5,
   "metadata": {},
   "outputs": [],
   "source": [
    "#here is just a simple dictionary for understanding our datas clearly\n",
    "Age_dictionary = {-0.95197: '18-24' ,-0.07854: '25-34' ,0.49788: '35-44' ,1.09449: '45-54' ,1.82213: '55-64' , 2.59171: '65+' }\n",
    "\n",
    "Education_dictionary ={-2.43591 :'Left school before 16 years',\n",
    "                       -1.73790:'Left school at 16 years',\n",
    "                       -1.43719:' Left school at 17 years',\n",
    "                       -1.22751:'Left school at 18 years',\n",
    "                       -0.61113:'Some college or university, no certificate or degree',\n",
    "                       -0.05921:'Professional certificate/ diploma',\n",
    "                       0.45468:'University degree',\n",
    "                       1.16365:'Masters degree ',\n",
    "                       1.98437:'Doctorate degree'}"
   ]
  },
  {
   "cell_type": "code",
   "execution_count": 6,
   "metadata": {},
   "outputs": [
    {
     "name": "stdout",
     "output_type": "stream",
     "text": [
      "-0.95197    643\n",
      "-0.07854    481\n",
      " 0.49788    356\n",
      " 1.09449    294\n",
      " 1.82213     93\n",
      " 2.59171     18\n",
      "Name: Age, dtype: int64\n"
     ]
    },
    {
     "data": {
      "image/png": "[encoded data removed]",
      "text/plain": [
       "<Figure size 432x288 with 1 Axes>"
      ]
     },
     "metadata": {
      "needs_background": "light"
     },
     "output_type": "display_data"
    }
   ],
   "source": [
    "#first look what we have\n",
    "age_count=df['Age'].value_counts()\n",
    "print(age_count)\n",
    "\n",
    "age_count.plot(kind='bar',);"
   ]
  },
  {
   "cell_type": "code",
   "execution_count": 7,
   "metadata": {},
   "outputs": [
    {
     "name": "stdout",
     "output_type": "stream",
     "text": [
      "-0.61113    506\n",
      " 0.45468    480\n",
      " 1.16365    283\n",
      "-0.05921    270\n",
      "-1.22751    100\n",
      "-1.73790     99\n",
      " 1.98437     89\n",
      "-1.43719     30\n",
      "-2.43591     28\n",
      "Name: Education, dtype: int64\n"
     ]
    },
    {
     "data": {
      "image/png": "[encoded data removed]",
      "text/plain": [
       "<Figure size 432x288 with 1 Axes>"
      ]
     },
     "metadata": {
      "needs_background": "light"
     },
     "output_type": "display_data"
    }
   ],
   "source": [
    "edu_count=df['Education'].value_counts()\n",
    "print(edu_count)\n",
    "edu_count.plot(kind='bar');"
   ]
  },
  {
   "cell_type": "code",
   "execution_count": 8,
   "metadata": {},
   "outputs": [],
   "source": [
    "#I am dropping columns that I dont need because I will use Heroine as class label\n",
    "df = df.drop(['Alcohol','Amphet','Amyl','Benzos','Caff','Cannabis','Choc','Coke','Crack','Ecstasy','Ketamine','Legalh','LSD','Meth','Mushrooms','Nicotine','Semer','VSA'], axis=1)"
   ]
  },
  {
   "cell_type": "code",
   "execution_count": 9,
   "metadata": {},
   "outputs": [
    {
     "data": {
      "text/html": [
       "<div>\n",
       "<style scoped>\n",
       "    .dataframe tbody tr th:only-of-type {\n",
       "        vertical-align: middle;\n",
       "    }\n",
       "\n",
       "    .dataframe tbody tr th {\n",
       "        vertical-align: top;\n",
       "    }\n",
       "\n",
       "    .dataframe thead th {\n",
       "        text-align: right;\n",
       "    }\n",
       "</style>\n",
       "<table border=\"1\" class=\"dataframe\">\n",
       "  <thead>\n",
       "    <tr style=\"text-align: right;\">\n",
       "      <th></th>\n",
       "      <th>ID</th>\n",
       "      <th>Age</th>\n",
       "      <th>Gender</th>\n",
       "      <th>Education</th>\n",
       "      <th>Country</th>\n",
       "      <th>Ethnicity</th>\n",
       "      <th>Nscore</th>\n",
       "      <th>Escore</th>\n",
       "      <th>Oscore</th>\n",
       "      <th>Ascore</th>\n",
       "      <th>Cscore</th>\n",
       "      <th>Impulsive</th>\n",
       "      <th>SS</th>\n",
       "      <th>Heroin</th>\n",
       "    </tr>\n",
       "  </thead>\n",
       "  <tbody>\n",
       "    <tr>\n",
       "      <th>0</th>\n",
       "      <td>1</td>\n",
       "      <td>0.49788</td>\n",
       "      <td>0.48246</td>\n",
       "      <td>-0.05921</td>\n",
       "      <td>0.96082</td>\n",
       "      <td>0.12600</td>\n",
       "      <td>0.31287</td>\n",
       "      <td>-0.57545</td>\n",
       "      <td>-0.58331</td>\n",
       "      <td>-0.91699</td>\n",
       "      <td>-0.00665</td>\n",
       "      <td>-0.21712</td>\n",
       "      <td>-1.18084</td>\n",
       "      <td>CL0</td>\n",
       "    </tr>\n",
       "    <tr>\n",
       "      <th>1</th>\n",
       "      <td>2</td>\n",
       "      <td>-0.07854</td>\n",
       "      <td>-0.48246</td>\n",
       "      <td>1.98437</td>\n",
       "      <td>0.96082</td>\n",
       "      <td>-0.31685</td>\n",
       "      <td>-0.67825</td>\n",
       "      <td>1.93886</td>\n",
       "      <td>1.43533</td>\n",
       "      <td>0.76096</td>\n",
       "      <td>-0.14277</td>\n",
       "      <td>-0.71126</td>\n",
       "      <td>-0.21575</td>\n",
       "      <td>CL0</td>\n",
       "    </tr>\n",
       "    <tr>\n",
       "      <th>2</th>\n",
       "      <td>3</td>\n",
       "      <td>0.49788</td>\n",
       "      <td>-0.48246</td>\n",
       "      <td>-0.05921</td>\n",
       "      <td>0.96082</td>\n",
       "      <td>-0.31685</td>\n",
       "      <td>-0.46725</td>\n",
       "      <td>0.80523</td>\n",
       "      <td>-0.84732</td>\n",
       "      <td>-1.62090</td>\n",
       "      <td>-1.01450</td>\n",
       "      <td>-1.37983</td>\n",
       "      <td>0.40148</td>\n",
       "      <td>CL0</td>\n",
       "    </tr>\n",
       "    <tr>\n",
       "      <th>3</th>\n",
       "      <td>4</td>\n",
       "      <td>-0.95197</td>\n",
       "      <td>0.48246</td>\n",
       "      <td>1.16365</td>\n",
       "      <td>0.96082</td>\n",
       "      <td>-0.31685</td>\n",
       "      <td>-0.14882</td>\n",
       "      <td>-0.80615</td>\n",
       "      <td>-0.01928</td>\n",
       "      <td>0.59042</td>\n",
       "      <td>0.58489</td>\n",
       "      <td>-1.37983</td>\n",
       "      <td>-1.18084</td>\n",
       "      <td>CL0</td>\n",
       "    </tr>\n",
       "    <tr>\n",
       "      <th>4</th>\n",
       "      <td>5</td>\n",
       "      <td>0.49788</td>\n",
       "      <td>0.48246</td>\n",
       "      <td>1.98437</td>\n",
       "      <td>0.96082</td>\n",
       "      <td>-0.31685</td>\n",
       "      <td>0.73545</td>\n",
       "      <td>-1.63340</td>\n",
       "      <td>-0.45174</td>\n",
       "      <td>-0.30172</td>\n",
       "      <td>1.30612</td>\n",
       "      <td>-0.21712</td>\n",
       "      <td>-0.21575</td>\n",
       "      <td>CL0</td>\n",
       "    </tr>\n",
       "  </tbody>\n",
       "</table>\n",
       "</div>"
      ],
      "text/plain": [
       "   ID      Age   Gender  Education  Country  Ethnicity   Nscore   Escore  \\\n",
       "0   1  0.49788  0.48246   -0.05921  0.96082    0.12600  0.31287 -0.57545   \n",
       "1   2 -0.07854 -0.48246    1.98437  0.96082   -0.31685 -0.67825  1.93886   \n",
       "2   3  0.49788 -0.48246   -0.05921  0.96082   -0.31685 -0.46725  0.80523   \n",
       "3   4 -0.95197  0.48246    1.16365  0.96082   -0.31685 -0.14882 -0.80615   \n",
       "4   5  0.49788  0.48246    1.98437  0.96082   -0.31685  0.73545 -1.63340   \n",
       "\n",
       "    Oscore   Ascore   Cscore  Impulsive       SS Heroin  \n",
       "0 -0.58331 -0.91699 -0.00665   -0.21712 -1.18084    CL0  \n",
       "1  1.43533  0.76096 -0.14277   -0.71126 -0.21575    CL0  \n",
       "2 -0.84732 -1.62090 -1.01450   -1.37983  0.40148    CL0  \n",
       "3 -0.01928  0.59042  0.58489   -1.37983 -1.18084    CL0  \n",
       "4 -0.45174 -0.30172  1.30612   -0.21712 -0.21575    CL0  "
      ]
     },
     "execution_count": 9,
     "metadata": {},
     "output_type": "execute_result"
    }
   ],
   "source": [
    "#Here is top 5 instances of our dataset\n",
    "df.head()"
   ]
  },
  {
   "cell_type": "code",
   "execution_count": 10,
   "metadata": {},
   "outputs": [
    {
     "data": {
      "text/plain": [
       "ID           0\n",
       "Age          0\n",
       "Gender       0\n",
       "Education    0\n",
       "Country      0\n",
       "Ethnicity    0\n",
       "Nscore       0\n",
       "Escore       0\n",
       "Oscore       0\n",
       "Ascore       0\n",
       "Cscore       0\n",
       "Impulsive    0\n",
       "SS           0\n",
       "Heroin       0\n",
       "dtype: int64"
      ]
     },
     "execution_count": 10,
     "metadata": {},
     "output_type": "execute_result"
    }
   ],
   "source": [
    "#Checking null values\n",
    "df.isna().sum()"
   ]
  },
  {
   "cell_type": "code",
   "execution_count": 11,
   "metadata": {},
   "outputs": [
    {
     "data": {
      "text/plain": [
       "<matplotlib.axes._subplots.AxesSubplot at 0x16357ab0c48>"
      ]
     },
     "execution_count": 11,
     "metadata": {},
     "output_type": "execute_result"
    },
    {
     "data": {
      "image/png": "[encoded data removed]",
      "text/plain": [
       "<Figure size 432x288 with 1 Axes>"
      ]
     },
     "metadata": {
      "needs_background": "light"
     },
     "output_type": "display_data"
    },
    {
     "data": {
      "image/png": "[encoded data removed]",
      "text/plain": [
       "<Figure size 432x288 with 1 Axes>"
      ]
     },
     "metadata": {
      "needs_background": "light"
     },
     "output_type": "display_data"
    }
   ],
   "source": [
    "#Here is box plot of our Age and Education column\n",
    "df.boxplot(column=['Age'],by=['Heroin'])\n",
    "df.boxplot(column=['Education'],by=['Heroin'])"
   ]
  },
  {
   "cell_type": "code",
   "execution_count": 15,
   "metadata": {},
   "outputs": [
    {
     "data": {
      "text/plain": [
       "[<matplotlib.lines.Line2D at 0x16357a53a88>]"
      ]
     },
     "execution_count": 15,
     "metadata": {},
     "output_type": "execute_result"
    },
    {
     "data": {
      "image/png": "[encoded data removed]",
      "text/plain": [
       "<Figure size 360x360 with 1 Axes>"
      ]
     },
     "metadata": {
      "needs_background": "light"
     },
     "output_type": "display_data"
    }
   ],
   "source": [
    "#Here is our scatter for our class label\n",
    "#I tried to make different plots for each of our targets but I couldn't make it\n",
    "plt.figure(figsize = (5, 5))\n",
    "plt.xlabel('Education', fontsize = 10)\n",
    "plt.ylabel('Age', fontsize = 10)\n",
    "plt.title('Deneme', fontsize = 10)\n",
    "plt.tick_params(axis='both', labelsize=10)\n",
    "\n",
    "targets = ['CL3']\n",
    "colors = [ 'y']\n",
    "for target, color in zip(targets,colors):\n",
    "    indices = df['Heroin'] == target\n",
    "    plt.scatter(df.loc[indices, 'Education'], df.loc[indices, 'Age'], c = color, s = 40)\n",
    "    \n",
    "plt.legend(targets, fontsize=6)\n",
    "plt.grid()\n",
    "plt.plot(1.98437,0.49788, color='white', marker='*', markersize=5)"
   ]
  },
  {
   "cell_type": "code",
   "execution_count": 13,
   "metadata": {},
   "outputs": [
    {
     "data": {
      "text/plain": [
       "<matplotlib.collections.PathCollection at 0x16357cef708>"
      ]
     },
     "execution_count": 13,
     "metadata": {},
     "output_type": "execute_result"
    },
    {
     "data": {
      "image/png": "[encoded data removed]",
      "text/plain": [
       "<Figure size 432x288 with 1 Axes>"
      ]
     },
     "metadata": {
      "needs_background": "light"
     },
     "output_type": "display_data"
    }
   ],
   "source": [
    "#This is for just showing our data distribution because we have a lot of overlapping data\n",
    "plt.scatter(df['Age'],df['Education'],alpha=0.1)"
   ]
  },
  {
   "cell_type": "code",
   "execution_count": 14,
   "metadata": {},
   "outputs": [
    {
     "name": "stdout",
     "output_type": "stream",
     "text": [
      "0       2.450438\n",
      "1       4.573278\n",
      "2       2.450438\n",
      "3       4.140632\n",
      "4       4.460361\n",
      "          ...   \n",
      "1880    2.741864\n",
      "1881    2.741864\n",
      "1882    3.119537\n",
      "1883    2.741864\n",
      "1884    2.741864\n",
      "Length: 1885, dtype: float64\n"
     ]
    }
   ],
   "source": [
    "#kNN implementation that we did in the class\n",
    "\n",
    "test_x=np.array([[1.09449,-2.43591]])\n",
    "Euc_dist = ((df['Age']- test_x[0,0])**2 + (df['Education']- test_x[0,1])**2)**0.5\n",
    "print(Euc_dist)"
   ]
  },
  {
   "cell_type": "code",
   "execution_count": 15,
   "metadata": {},
   "outputs": [
    {
     "name": "stdout",
     "output_type": "stream",
     "text": [
      "       ID      Age   Gender  Education  Country  Ethnicity   Nscore   Escore  \\\n",
      "0       1  0.49788  0.48246   -0.05921  0.96082    0.12600  0.31287 -0.57545   \n",
      "1       2 -0.07854 -0.48246    1.98437  0.96082   -0.31685 -0.67825  1.93886   \n",
      "2       3  0.49788 -0.48246   -0.05921  0.96082   -0.31685 -0.46725  0.80523   \n",
      "3       4 -0.95197  0.48246    1.16365  0.96082   -0.31685 -0.14882 -0.80615   \n",
      "4       5  0.49788  0.48246    1.98437  0.96082   -0.31685  0.73545 -1.63340   \n",
      "..    ...      ...      ...        ...      ...        ...      ...      ...   \n",
      "995   999 -0.07854  0.48246    1.98437 -0.57009   -0.31685 -1.05308  0.80523   \n",
      "996  1000 -0.95197 -0.48246   -0.61113 -0.57009   -0.31685 -0.67825  0.47617   \n",
      "997  1001 -0.95197 -0.48246   -1.73790 -0.46841   -0.31685  1.23461 -1.09207   \n",
      "998  1002 -0.95197 -0.48246   -0.61113 -0.57009   -0.31685 -0.05188  0.96248   \n",
      "999  1003  1.09449  0.48246   -0.61113 -0.28519   -0.31685 -0.34799  0.16767   \n",
      "\n",
      "      Oscore   Ascore   Cscore  Impulsive       SS Heroin  Euc_dist  \n",
      "0   -0.58331 -0.91699 -0.00665   -0.21712 -1.18084    CL0  2.450438  \n",
      "1    1.43533  0.76096 -0.14277   -0.71126 -0.21575    CL0  4.573278  \n",
      "2   -0.84732 -1.62090 -1.01450   -1.37983  0.40148    CL0  2.450438  \n",
      "3   -0.01928  0.59042  0.58489   -1.37983 -1.18084    CL0  4.140632  \n",
      "4   -0.45174 -0.30172  1.30612   -0.21712 -0.21575    CL0  4.460361  \n",
      "..       ...      ...      ...        ...      ...    ...       ...  \n",
      "995 -0.31776 -0.15487  0.93949   -0.21712 -0.52593    CL0  4.573278  \n",
      "996 -0.17779  0.13136  1.46191   -0.71126 -1.18084    CL4  2.741864  \n",
      "997 -0.31776 -0.15487 -0.65253    1.29221  0.76540    CL0  2.162225  \n",
      "998 -1.27553 -2.35413 -0.89891    1.29221  1.92173    CL4  2.741864  \n",
      "999  0.14143  0.43852  0.75830   -1.37983 -1.18084    CL0  1.824780  \n",
      "\n",
      "[1000 rows x 15 columns]\n"
     ]
    }
   ],
   "source": [
    "#Calculating Euclidean distance\n",
    "Euc_df=pd.DataFrame({'Euc_dist':Euc_dist})\n",
    "df_dist=pd.concat([df, Euc_df],axis=1)\n",
    "print(df_dist.head(1000))"
   ]
  },
  {
   "cell_type": "code",
   "execution_count": 16,
   "metadata": {},
   "outputs": [
    {
     "data": {
      "text/html": [
       "<div>\n",
       "<style scoped>\n",
       "    .dataframe tbody tr th:only-of-type {\n",
       "        vertical-align: middle;\n",
       "    }\n",
       "\n",
       "    .dataframe tbody tr th {\n",
       "        vertical-align: top;\n",
       "    }\n",
       "\n",
       "    .dataframe thead th {\n",
       "        text-align: right;\n",
       "    }\n",
       "</style>\n",
       "<table border=\"1\" class=\"dataframe\">\n",
       "  <thead>\n",
       "    <tr style=\"text-align: right;\">\n",
       "      <th></th>\n",
       "      <th>ID</th>\n",
       "      <th>Age</th>\n",
       "      <th>Gender</th>\n",
       "      <th>Education</th>\n",
       "      <th>Country</th>\n",
       "      <th>Ethnicity</th>\n",
       "      <th>Nscore</th>\n",
       "      <th>Escore</th>\n",
       "      <th>Oscore</th>\n",
       "      <th>Ascore</th>\n",
       "      <th>Cscore</th>\n",
       "      <th>Impulsive</th>\n",
       "      <th>SS</th>\n",
       "      <th>Heroin</th>\n",
       "      <th>Euc_dist</th>\n",
       "    </tr>\n",
       "  </thead>\n",
       "  <tbody>\n",
       "    <tr>\n",
       "      <th>699</th>\n",
       "      <td>702</td>\n",
       "      <td>1.09449</td>\n",
       "      <td>-0.48246</td>\n",
       "      <td>-2.43591</td>\n",
       "      <td>0.96082</td>\n",
       "      <td>-0.31685</td>\n",
       "      <td>-1.05308</td>\n",
       "      <td>1.11406</td>\n",
       "      <td>0.44585</td>\n",
       "      <td>0.76096</td>\n",
       "      <td>1.13407</td>\n",
       "      <td>-0.71126</td>\n",
       "      <td>0.40148</td>\n",
       "      <td>CL0</td>\n",
       "      <td>0.000000</td>\n",
       "    </tr>\n",
       "    <tr>\n",
       "      <th>1862</th>\n",
       "      <td>1866</td>\n",
       "      <td>1.09449</td>\n",
       "      <td>-0.48246</td>\n",
       "      <td>-2.43591</td>\n",
       "      <td>-0.57009</td>\n",
       "      <td>-0.31685</td>\n",
       "      <td>0.73545</td>\n",
       "      <td>-0.43999</td>\n",
       "      <td>0.44585</td>\n",
       "      <td>-1.07533</td>\n",
       "      <td>0.25953</td>\n",
       "      <td>0.52975</td>\n",
       "      <td>0.40148</td>\n",
       "      <td>CL2</td>\n",
       "      <td>0.000000</td>\n",
       "    </tr>\n",
       "    <tr>\n",
       "      <th>685</th>\n",
       "      <td>688</td>\n",
       "      <td>1.09449</td>\n",
       "      <td>0.48246</td>\n",
       "      <td>-2.43591</td>\n",
       "      <td>-0.09765</td>\n",
       "      <td>-0.31685</td>\n",
       "      <td>-0.92104</td>\n",
       "      <td>0.63779</td>\n",
       "      <td>-0.97631</td>\n",
       "      <td>0.94156</td>\n",
       "      <td>0.25953</td>\n",
       "      <td>-1.37983</td>\n",
       "      <td>-2.07848</td>\n",
       "      <td>CL0</td>\n",
       "      <td>0.000000</td>\n",
       "    </tr>\n",
       "    <tr>\n",
       "      <th>1559</th>\n",
       "      <td>1563</td>\n",
       "      <td>1.09449</td>\n",
       "      <td>0.48246</td>\n",
       "      <td>-2.43591</td>\n",
       "      <td>0.96082</td>\n",
       "      <td>-0.31685</td>\n",
       "      <td>0.22393</td>\n",
       "      <td>-0.30033</td>\n",
       "      <td>-1.27553</td>\n",
       "      <td>-0.60633</td>\n",
       "      <td>-0.27607</td>\n",
       "      <td>-0.21712</td>\n",
       "      <td>-0.52593</td>\n",
       "      <td>CL0</td>\n",
       "      <td>0.000000</td>\n",
       "    </tr>\n",
       "    <tr>\n",
       "      <th>1495</th>\n",
       "      <td>1499</td>\n",
       "      <td>1.09449</td>\n",
       "      <td>0.48246</td>\n",
       "      <td>-2.43591</td>\n",
       "      <td>-0.57009</td>\n",
       "      <td>-0.31685</td>\n",
       "      <td>0.62967</td>\n",
       "      <td>-0.15487</td>\n",
       "      <td>-0.45174</td>\n",
       "      <td>-0.45321</td>\n",
       "      <td>-1.01450</td>\n",
       "      <td>0.19268</td>\n",
       "      <td>-0.52593</td>\n",
       "      <td>CL0</td>\n",
       "      <td>0.000000</td>\n",
       "    </tr>\n",
       "    <tr>\n",
       "      <th>...</th>\n",
       "      <td>...</td>\n",
       "      <td>...</td>\n",
       "      <td>...</td>\n",
       "      <td>...</td>\n",
       "      <td>...</td>\n",
       "      <td>...</td>\n",
       "      <td>...</td>\n",
       "      <td>...</td>\n",
       "      <td>...</td>\n",
       "      <td>...</td>\n",
       "      <td>...</td>\n",
       "      <td>...</td>\n",
       "      <td>...</td>\n",
       "      <td>...</td>\n",
       "      <td>...</td>\n",
       "    </tr>\n",
       "    <tr>\n",
       "      <th>1497</th>\n",
       "      <td>1501</td>\n",
       "      <td>-0.07854</td>\n",
       "      <td>-0.48246</td>\n",
       "      <td>1.98437</td>\n",
       "      <td>-0.57009</td>\n",
       "      <td>0.11440</td>\n",
       "      <td>-0.34799</td>\n",
       "      <td>0.47617</td>\n",
       "      <td>-0.01928</td>\n",
       "      <td>-0.60633</td>\n",
       "      <td>-0.00665</td>\n",
       "      <td>0.52975</td>\n",
       "      <td>1.22470</td>\n",
       "      <td>CL3</td>\n",
       "      <td>4.573278</td>\n",
       "    </tr>\n",
       "    <tr>\n",
       "      <th>258</th>\n",
       "      <td>259</td>\n",
       "      <td>2.59171</td>\n",
       "      <td>-0.48246</td>\n",
       "      <td>1.98437</td>\n",
       "      <td>0.96082</td>\n",
       "      <td>-0.31685</td>\n",
       "      <td>0.52135</td>\n",
       "      <td>-0.15487</td>\n",
       "      <td>-0.45174</td>\n",
       "      <td>-1.47955</td>\n",
       "      <td>1.81175</td>\n",
       "      <td>-0.71126</td>\n",
       "      <td>-1.54858</td>\n",
       "      <td>CL0</td>\n",
       "      <td>4.666963</td>\n",
       "    </tr>\n",
       "    <tr>\n",
       "      <th>80</th>\n",
       "      <td>81</td>\n",
       "      <td>2.59171</td>\n",
       "      <td>0.48246</td>\n",
       "      <td>1.98437</td>\n",
       "      <td>0.24923</td>\n",
       "      <td>-0.31685</td>\n",
       "      <td>0.04257</td>\n",
       "      <td>0.32197</td>\n",
       "      <td>0.44585</td>\n",
       "      <td>-0.15487</td>\n",
       "      <td>1.46191</td>\n",
       "      <td>-0.21712</td>\n",
       "      <td>-0.21575</td>\n",
       "      <td>CL0</td>\n",
       "      <td>4.666963</td>\n",
       "    </tr>\n",
       "    <tr>\n",
       "      <th>1153</th>\n",
       "      <td>1157</td>\n",
       "      <td>-0.95197</td>\n",
       "      <td>-0.48246</td>\n",
       "      <td>1.98437</td>\n",
       "      <td>0.96082</td>\n",
       "      <td>-0.31685</td>\n",
       "      <td>-0.92104</td>\n",
       "      <td>1.74091</td>\n",
       "      <td>1.65653</td>\n",
       "      <td>1.61108</td>\n",
       "      <td>-0.52745</td>\n",
       "      <td>-0.21712</td>\n",
       "      <td>1.22470</td>\n",
       "      <td>CL0</td>\n",
       "      <td>4.871024</td>\n",
       "    </tr>\n",
       "    <tr>\n",
       "      <th>756</th>\n",
       "      <td>760</td>\n",
       "      <td>-0.95197</td>\n",
       "      <td>-0.48246</td>\n",
       "      <td>1.98437</td>\n",
       "      <td>0.96082</td>\n",
       "      <td>-0.31685</td>\n",
       "      <td>-2.75696</td>\n",
       "      <td>1.74091</td>\n",
       "      <td>0.58331</td>\n",
       "      <td>1.11406</td>\n",
       "      <td>0.25953</td>\n",
       "      <td>-0.71126</td>\n",
       "      <td>0.40148</td>\n",
       "      <td>CL0</td>\n",
       "      <td>4.871024</td>\n",
       "    </tr>\n",
       "  </tbody>\n",
       "</table>\n",
       "<p>1885 rows × 15 columns</p>\n",
       "</div>"
      ],
      "text/plain": [
       "        ID      Age   Gender  Education  Country  Ethnicity   Nscore   Escore  \\\n",
       "699    702  1.09449 -0.48246   -2.43591  0.96082   -0.31685 -1.05308  1.11406   \n",
       "1862  1866  1.09449 -0.48246   -2.43591 -0.57009   -0.31685  0.73545 -0.43999   \n",
       "685    688  1.09449  0.48246   -2.43591 -0.09765   -0.31685 -0.92104  0.63779   \n",
       "1559  1563  1.09449  0.48246   -2.43591  0.96082   -0.31685  0.22393 -0.30033   \n",
       "1495  1499  1.09449  0.48246   -2.43591 -0.57009   -0.31685  0.62967 -0.15487   \n",
       "...    ...      ...      ...        ...      ...        ...      ...      ...   \n",
       "1497  1501 -0.07854 -0.48246    1.98437 -0.57009    0.11440 -0.34799  0.47617   \n",
       "258    259  2.59171 -0.48246    1.98437  0.96082   -0.31685  0.52135 -0.15487   \n",
       "80      81  2.59171  0.48246    1.98437  0.24923   -0.31685  0.04257  0.32197   \n",
       "1153  1157 -0.95197 -0.48246    1.98437  0.96082   -0.31685 -0.92104  1.74091   \n",
       "756    760 -0.95197 -0.48246    1.98437  0.96082   -0.31685 -2.75696  1.74091   \n",
       "\n",
       "       Oscore   Ascore   Cscore  Impulsive       SS Heroin  Euc_dist  \n",
       "699   0.44585  0.76096  1.13407   -0.71126  0.40148    CL0  0.000000  \n",
       "1862  0.44585 -1.07533  0.25953    0.52975  0.40148    CL2  0.000000  \n",
       "685  -0.97631  0.94156  0.25953   -1.37983 -2.07848    CL0  0.000000  \n",
       "1559 -1.27553 -0.60633 -0.27607   -0.21712 -0.52593    CL0  0.000000  \n",
       "1495 -0.45174 -0.45321 -1.01450    0.19268 -0.52593    CL0  0.000000  \n",
       "...       ...      ...      ...        ...      ...    ...       ...  \n",
       "1497 -0.01928 -0.60633 -0.00665    0.52975  1.22470    CL3  4.573278  \n",
       "258  -0.45174 -1.47955  1.81175   -0.71126 -1.54858    CL0  4.666963  \n",
       "80    0.44585 -0.15487  1.46191   -0.21712 -0.21575    CL0  4.666963  \n",
       "1153  1.65653  1.61108 -0.52745   -0.21712  1.22470    CL0  4.871024  \n",
       "756   0.58331  1.11406  0.25953   -0.71126  0.40148    CL0  4.871024  \n",
       "\n",
       "[1885 rows x 15 columns]"
      ]
     },
     "execution_count": 16,
     "metadata": {},
     "output_type": "execute_result"
    }
   ],
   "source": [
    "#sorting by euclidean distance\n",
    "df_sortedDist = df_dist.sort_values('Euc_dist')\n",
    "df_sortedDist"
   ]
  },
  {
   "cell_type": "code",
   "execution_count": 17,
   "metadata": {},
   "outputs": [],
   "source": [
    "#here I am triying to make my training and test data set\n",
    "\n",
    "from sklearn.model_selection import train_test_split, cross_val_score\n",
    "from sklearn.neighbors import KNeighborsClassifier\n",
    "from sklearn.metrics import accuracy_score\n",
    "\n",
    "X = np.array(df.iloc[:, 1:12])\n",
    "y = np.array(df['Heroin'])\n"
   ]
  },
  {
   "cell_type": "code",
   "execution_count": 18,
   "metadata": {},
   "outputs": [],
   "source": [
    "#I am spliting them as %30 for test %70 for traing\n",
    "\n",
    "X_train, X_test, y_train, y_test = train_test_split(X, y, test_size = 0.3)"
   ]
  },
  {
   "cell_type": "code",
   "execution_count": 19,
   "metadata": {},
   "outputs": [
    {
     "data": {
      "text/plain": [
       "0.8250883392226148"
      ]
     },
     "execution_count": 19,
     "metadata": {},
     "output_type": "execute_result"
    }
   ],
   "source": [
    "#knn for k=3\n",
    "kNN = KNeighborsClassifier(n_neighbors=3)\n",
    "kNN.fit(X_train, np.ravel(y_train))\n",
    "kNN.predict(X_test)\n",
    "kNN.score(X_test, y_test)"
   ]
  },
  {
   "cell_type": "code",
   "execution_count": 20,
   "metadata": {},
   "outputs": [
    {
     "data": {
      "text/plain": [
       "0.8392226148409894"
      ]
     },
     "execution_count": 20,
     "metadata": {},
     "output_type": "execute_result"
    }
   ],
   "source": [
    "#knn for k=5\n",
    "kNN = KNeighborsClassifier(n_neighbors=5)\n",
    "kNN.fit(X_train, np.ravel(y_train))\n",
    "kNN.predict(X_test)\n",
    "kNN.score(X_test, y_test)"
   ]
  },
  {
   "cell_type": "code",
   "execution_count": 21,
   "metadata": {},
   "outputs": [
    {
     "data": {
      "text/plain": [
       "0.8445229681978799"
      ]
     },
     "execution_count": 21,
     "metadata": {},
     "output_type": "execute_result"
    }
   ],
   "source": [
    "#knn for k=7\n",
    "kNN = KNeighborsClassifier(n_neighbors=7)\n",
    "kNN.fit(X_train, np.ravel(y_train))\n",
    "kNN.predict(X_test)\n",
    "kNN.score(X_test, y_test)"
   ]
  },
  {
   "cell_type": "code",
   "execution_count": 22,
   "metadata": {},
   "outputs": [
    {
     "data": {
      "text/plain": [
       "0.8480565371024735"
      ]
     },
     "execution_count": 22,
     "metadata": {},
     "output_type": "execute_result"
    }
   ],
   "source": [
    "#knn for k=9\n",
    "kNN = KNeighborsClassifier(n_neighbors=9)\n",
    "kNN.fit(X_train, np.ravel(y_train))\n",
    "kNN.predict(X_test)\n",
    "kNN.score(X_test, y_test)"
   ]
  },
  {
   "cell_type": "code",
   "execution_count": 23,
   "metadata": {},
   "outputs": [
    {
     "data": {
      "text/plain": [
       "array([[ 0.49788,  0.48246, -0.61113, ..., -0.60633, -0.52745, -0.71126],\n",
       "       [-0.95197, -0.48246,  0.45468, ..., -0.30172,  0.7583 , -0.21712],\n",
       "       [-0.07854,  0.48246,  0.45468, ..., -0.91699,  0.25953,  0.19268],\n",
       "       ...,\n",
       "       [ 0.49788, -0.48246, -1.7379 , ..., -0.45321, -0.27607, -0.21712],\n",
       "       [-0.07854,  0.48246,  1.98437, ..., -0.30172, -0.27607, -1.37983],\n",
       "       [-0.95197, -0.48246, -0.61113, ...,  0.76096, -1.13788, -0.71126]])"
      ]
     },
     "execution_count": 23,
     "metadata": {},
     "output_type": "execute_result"
    }
   ],
   "source": [
    "X_train"
   ]
  },
  {
   "cell_type": "code",
   "execution_count": 24,
   "metadata": {},
   "outputs": [
    {
     "name": "stdout",
     "output_type": "stream",
     "text": [
      "accuracy : 0.8250883392226148\n"
     ]
    }
   ],
   "source": [
    "knn=KNeighborsClassifier(n_neighbors=3, n_jobs=-1)\n",
    "#Here is we are training our dataset\n",
    "knn.fit(X_train,y_train)\n",
    "pred=knn.predict(X_test)\n",
    "print(\"accuracy : {}\".format(accuracy_score(y_test,pred)))"
   ]
  },
  {
   "cell_type": "code",
   "execution_count": 25,
   "metadata": {},
   "outputs": [],
   "source": [
    "#we are creating list for our k values and k accuracy scores \n",
    "k_values=[i for i in range(1,len(X_train),2)]\n",
    "k_acc_scores = [ ]"
   ]
  },
  {
   "cell_type": "code",
   "execution_count": 26,
   "metadata": {},
   "outputs": [],
   "source": [
    "#this loop calculates how accured our predictions are for each data\n",
    "for k in k_values:\n",
    "    #we are using knn for k=3 in here\n",
    "    knn=KNeighborsClassifier(n_neighbors=3, n_jobs=-1)\n",
    "    #In here we are spliting our train data in to 5 parts and tries to find best value of k\n",
    "    cv_scores=cross_val_score(knn,X_train,y_train,cv=5, scoring='accuracy')\n",
    "    k_acc_scores.append(cv_scores.mean())"
   ]
  },
  {
   "cell_type": "code",
   "execution_count": 27,
   "metadata": {},
   "outputs": [
    {
     "name": "stdout",
     "output_type": "stream",
     "text": [
      "Optimal k value is 1\n"
     ]
    }
   ],
   "source": [
    "#Here we are calculating our optimal k value\n",
    "optimal_k=k_values[k_acc_scores.index(max(k_acc_scores))]\n",
    "\n",
    "print(\"Optimal k value is {}\".format(optimal_k))"
   ]
  },
  {
   "cell_type": "code",
   "execution_count": 28,
   "metadata": {},
   "outputs": [
    {
     "data": {
      "image/png": "[encoded data removed]",
      "text/plain": [
       "<Figure size 432x288 with 1 Axes>"
      ]
     },
     "metadata": {
      "needs_background": "light"
     },
     "output_type": "display_data"
    }
   ],
   "source": [
    "#it is actually calculating optimal k value but I dont understand why It is plotting wrong\n",
    "plt.plot(k_values,k_acc_scores)\n",
    "plt.xlabel(\"K\")\n",
    "plt.ylabel(\"Accuracy\")\n",
    "plt.show()"
   ]
  },
  {
   "cell_type": "code",
   "execution_count": 29,
   "metadata": {},
   "outputs": [],
   "source": [
    "from sklearn.metrics import confusion_matrix"
   ]
  },
  {
   "cell_type": "code",
   "execution_count": 30,
   "metadata": {},
   "outputs": [
    {
     "data": {
      "text/plain": [
       "array(['CL0', 'CL0', 'CL0', ..., 'CL0', 'CL0', 'CL0'], dtype=object)"
      ]
     },
     "execution_count": 30,
     "metadata": {},
     "output_type": "execute_result"
    }
   ],
   "source": [
    "#Here is we are going to calculare confusion matrix\n",
    "knn=KNeighborsClassifier(1)\n",
    "#Here is we are flattering our array\n",
    "y_train=y_train.ravel()\n",
    "y_train\n"
   ]
  },
  {
   "cell_type": "code",
   "execution_count": 31,
   "metadata": {},
   "outputs": [
    {
     "data": {
      "text/plain": [
       "KNeighborsClassifier(algorithm='auto', leaf_size=30, metric='minkowski',\n",
       "                     metric_params=None, n_jobs=None, n_neighbors=1, p=2,\n",
       "                     weights='uniform')"
      ]
     },
     "execution_count": 31,
     "metadata": {},
     "output_type": "execute_result"
    }
   ],
   "source": [
    "#we are making out trainning\n",
    "knn.fit(X_train,y_train)"
   ]
  },
  {
   "cell_type": "code",
   "execution_count": 32,
   "metadata": {},
   "outputs": [
    {
     "data": {
      "text/plain": [
       "array(['CL0', 'CL0', 'CL0', 'CL0', 'CL0', 'CL0', 'CL0', 'CL0', 'CL0',\n",
       "       'CL0', 'CL1', 'CL0', 'CL0', 'CL0', 'CL0', 'CL0', 'CL0', 'CL0',\n",
       "       'CL0', 'CL0', 'CL0', 'CL0', 'CL0', 'CL0', 'CL0', 'CL0', 'CL0',\n",
       "       'CL0', 'CL3', 'CL0', 'CL0', 'CL0', 'CL0', 'CL0', 'CL0', 'CL0',\n",
       "       'CL0', 'CL0', 'CL0', 'CL0', 'CL0', 'CL0', 'CL0', 'CL0', 'CL0',\n",
       "       'CL0', 'CL0', 'CL0', 'CL0', 'CL0', 'CL0', 'CL0', 'CL0', 'CL0',\n",
       "       'CL0', 'CL3', 'CL0', 'CL0', 'CL0', 'CL0', 'CL2', 'CL0', 'CL0',\n",
       "       'CL2', 'CL0', 'CL0', 'CL0', 'CL0', 'CL0', 'CL0', 'CL0', 'CL0',\n",
       "       'CL0', 'CL0', 'CL0', 'CL0', 'CL0', 'CL0', 'CL0', 'CL0', 'CL0',\n",
       "       'CL0', 'CL0', 'CL0', 'CL2', 'CL0', 'CL0', 'CL0', 'CL0', 'CL0',\n",
       "       'CL0', 'CL3', 'CL0', 'CL0', 'CL0', 'CL0', 'CL0', 'CL0', 'CL0',\n",
       "       'CL2', 'CL0', 'CL0', 'CL2', 'CL0', 'CL0', 'CL2', 'CL0', 'CL0',\n",
       "       'CL0', 'CL1', 'CL0', 'CL0', 'CL0', 'CL0', 'CL0', 'CL0', 'CL3',\n",
       "       'CL0', 'CL0', 'CL0', 'CL0', 'CL0', 'CL0', 'CL1', 'CL0', 'CL0',\n",
       "       'CL0', 'CL0', 'CL0', 'CL0', 'CL0', 'CL0', 'CL0', 'CL0', 'CL0',\n",
       "       'CL0', 'CL0', 'CL0', 'CL0', 'CL0', 'CL0', 'CL0', 'CL3', 'CL0',\n",
       "       'CL0', 'CL0', 'CL0', 'CL0', 'CL0', 'CL0', 'CL0', 'CL0', 'CL0',\n",
       "       'CL0', 'CL0', 'CL0', 'CL0', 'CL0', 'CL0', 'CL0', 'CL0', 'CL3',\n",
       "       'CL6', 'CL0', 'CL0', 'CL0', 'CL1', 'CL0', 'CL0', 'CL0', 'CL1',\n",
       "       'CL0', 'CL2', 'CL0', 'CL0', 'CL0', 'CL0', 'CL0', 'CL0', 'CL0',\n",
       "       'CL0', 'CL0', 'CL0', 'CL0', 'CL4', 'CL0', 'CL0', 'CL1', 'CL0',\n",
       "       'CL0', 'CL0', 'CL0', 'CL0', 'CL0', 'CL0', 'CL0', 'CL0', 'CL0',\n",
       "       'CL0', 'CL2', 'CL0', 'CL0', 'CL0', 'CL0', 'CL0', 'CL0', 'CL0',\n",
       "       'CL0', 'CL2', 'CL0', 'CL0', 'CL0', 'CL6', 'CL1', 'CL0', 'CL0',\n",
       "       'CL0', 'CL2', 'CL0', 'CL0', 'CL0', 'CL0', 'CL0', 'CL0', 'CL0',\n",
       "       'CL0', 'CL1', 'CL0', 'CL0', 'CL2', 'CL0', 'CL0', 'CL3', 'CL0',\n",
       "       'CL0', 'CL0', 'CL2', 'CL0', 'CL2', 'CL4', 'CL0', 'CL1', 'CL0',\n",
       "       'CL0', 'CL3', 'CL0', 'CL0', 'CL0', 'CL0', 'CL0', 'CL0', 'CL0',\n",
       "       'CL0', 'CL0', 'CL5', 'CL0', 'CL0', 'CL0', 'CL0', 'CL3', 'CL0',\n",
       "       'CL0', 'CL0', 'CL0', 'CL0', 'CL0', 'CL0', 'CL0', 'CL0', 'CL0',\n",
       "       'CL0', 'CL0', 'CL0', 'CL0', 'CL0', 'CL0', 'CL0', 'CL1', 'CL0',\n",
       "       'CL3', 'CL0', 'CL0', 'CL0', 'CL0', 'CL3', 'CL0', 'CL0', 'CL1',\n",
       "       'CL0', 'CL0', 'CL0', 'CL0', 'CL1', 'CL0', 'CL0', 'CL4', 'CL1',\n",
       "       'CL0', 'CL0', 'CL0', 'CL0', 'CL0', 'CL0', 'CL0', 'CL1', 'CL0',\n",
       "       'CL0', 'CL0', 'CL0', 'CL0', 'CL0', 'CL0', 'CL0', 'CL0', 'CL0',\n",
       "       'CL0', 'CL0', 'CL0', 'CL0', 'CL0', 'CL0', 'CL0', 'CL3', 'CL0',\n",
       "       'CL0', 'CL0', 'CL0', 'CL1', 'CL0', 'CL0', 'CL0', 'CL0', 'CL0',\n",
       "       'CL0', 'CL0', 'CL0', 'CL0', 'CL0', 'CL0', 'CL0', 'CL0', 'CL0',\n",
       "       'CL0', 'CL0', 'CL0', 'CL0', 'CL0', 'CL0', 'CL0', 'CL0', 'CL0',\n",
       "       'CL3', 'CL0', 'CL0', 'CL3', 'CL0', 'CL0', 'CL0', 'CL0', 'CL3',\n",
       "       'CL0', 'CL0', 'CL0', 'CL1', 'CL0', 'CL0', 'CL0', 'CL0', 'CL0',\n",
       "       'CL2', 'CL3', 'CL0', 'CL0', 'CL0', 'CL2', 'CL0', 'CL0', 'CL2',\n",
       "       'CL0', 'CL0', 'CL0', 'CL0', 'CL3', 'CL0', 'CL0', 'CL3', 'CL0',\n",
       "       'CL1', 'CL0', 'CL0', 'CL6', 'CL0', 'CL0', 'CL2', 'CL2', 'CL0',\n",
       "       'CL0', 'CL0', 'CL1', 'CL0', 'CL0', 'CL0', 'CL4', 'CL1', 'CL0',\n",
       "       'CL0', 'CL0', 'CL0', 'CL0', 'CL4', 'CL0', 'CL0', 'CL0', 'CL0',\n",
       "       'CL4', 'CL0', 'CL0', 'CL0', 'CL0', 'CL2', 'CL0', 'CL0', 'CL0',\n",
       "       'CL0', 'CL0', 'CL0', 'CL0', 'CL0', 'CL1', 'CL0', 'CL3', 'CL0',\n",
       "       'CL0', 'CL0', 'CL0', 'CL0', 'CL0', 'CL0', 'CL0', 'CL3', 'CL0',\n",
       "       'CL0', 'CL0', 'CL0', 'CL0', 'CL0', 'CL0', 'CL0', 'CL2', 'CL0',\n",
       "       'CL0', 'CL1', 'CL0', 'CL1', 'CL0', 'CL2', 'CL0', 'CL0', 'CL0',\n",
       "       'CL0', 'CL0', 'CL0', 'CL0', 'CL0', 'CL0', 'CL0', 'CL0', 'CL0',\n",
       "       'CL0', 'CL3', 'CL0', 'CL0', 'CL0', 'CL5', 'CL0', 'CL0', 'CL0',\n",
       "       'CL0', 'CL0', 'CL0', 'CL0', 'CL3', 'CL0', 'CL0', 'CL0', 'CL0',\n",
       "       'CL0', 'CL0', 'CL0', 'CL0', 'CL0', 'CL0', 'CL0', 'CL0', 'CL0',\n",
       "       'CL0', 'CL0', 'CL0', 'CL0', 'CL0', 'CL0', 'CL1', 'CL4', 'CL0',\n",
       "       'CL2', 'CL0', 'CL0', 'CL0', 'CL2', 'CL0', 'CL0', 'CL0', 'CL0',\n",
       "       'CL0', 'CL0', 'CL0', 'CL0', 'CL0', 'CL1', 'CL0', 'CL0', 'CL0',\n",
       "       'CL1', 'CL0', 'CL0', 'CL0', 'CL0', 'CL0', 'CL0', 'CL0', 'CL0',\n",
       "       'CL0', 'CL0', 'CL0', 'CL6', 'CL0', 'CL0', 'CL3', 'CL1', 'CL0',\n",
       "       'CL0', 'CL0', 'CL0', 'CL0', 'CL0', 'CL0', 'CL0', 'CL0', 'CL0',\n",
       "       'CL0', 'CL0', 'CL0', 'CL0', 'CL0', 'CL2', 'CL0', 'CL0', 'CL0',\n",
       "       'CL0', 'CL0', 'CL0', 'CL0', 'CL0', 'CL0', 'CL0', 'CL0'],\n",
       "      dtype=object)"
      ]
     },
     "execution_count": 32,
     "metadata": {},
     "output_type": "execute_result"
    }
   ],
   "source": [
    "#Here is our prediction x_test\n",
    "predict=knn.predict(X_test)\n",
    "predict"
   ]
  },
  {
   "cell_type": "code",
   "execution_count": 33,
   "metadata": {},
   "outputs": [
    {
     "data": {
      "text/plain": [
       "array([[420,  20,  18,  17,   4,   1,   3],\n",
       "       [ 18,   4,   0,   0,   0,   0,   0],\n",
       "       [ 15,   2,   4,   3,   1,   1,   0],\n",
       "       [ 13,   0,   0,   1,   2,   0,   0],\n",
       "       [  4,   0,   2,   2,   0,   0,   1],\n",
       "       [  5,   0,   0,   0,   0,   0,   0],\n",
       "       [  5,   0,   0,   0,   0,   0,   0]], dtype=int64)"
      ]
     },
     "execution_count": 33,
     "metadata": {},
     "output_type": "execute_result"
    }
   ],
   "source": [
    "#Here is our confusion matrix for x_test\n",
    "confusion_matrix(y_test,predict)"
   ]
  },
  {
   "cell_type": "code",
   "execution_count": 34,
   "metadata": {},
   "outputs": [
    {
     "data": {
      "text/plain": [
       "array(['CL0', 'CL0', 'CL0', ..., 'CL0', 'CL0', 'CL0'], dtype=object)"
      ]
     },
     "execution_count": 34,
     "metadata": {},
     "output_type": "execute_result"
    }
   ],
   "source": [
    "#Here is our prediction x_train\n",
    "predict=knn.predict(X_train)\n",
    "predict"
   ]
  },
  {
   "cell_type": "code",
   "execution_count": 35,
   "metadata": {},
   "outputs": [
    {
     "data": {
      "text/plain": [
       "array([[1122,    0,    0,    0,    0,    0,    0],\n",
       "       [   0,   46,    0,    0,    0,    0,    0],\n",
       "       [   0,    0,   68,    0,    0,    0,    0],\n",
       "       [   0,    0,    0,   49,    0,    0,    0],\n",
       "       [   0,    0,    0,    0,   15,    0,    0],\n",
       "       [   0,    0,    0,    0,    0,   11,    0],\n",
       "       [   0,    0,    0,    0,    0,    0,    8]], dtype=int64)"
      ]
     },
     "execution_count": 35,
     "metadata": {},
     "output_type": "execute_result"
    }
   ],
   "source": [
    "#Here is our confusion matrix for prediction x_train\n",
    "confusion_matrix(y_train,predict)"
   ]
  },
  {
   "cell_type": "code",
   "execution_count": 36,
   "metadata": {},
   "outputs": [
    {
     "data": {
      "text/plain": [
       "1.0"
      ]
     },
     "execution_count": 36,
     "metadata": {},
     "output_type": "execute_result"
    }
   ],
   "source": [
    "knn.score(X_train,y_train)"
   ]
  },
  {
   "cell_type": "code",
   "execution_count": null,
   "metadata": {},
   "outputs": [],
   "source": []
  }
 ],
 "metadata": {
  "kernelspec": {
   "display_name": "Python 3",
   "language": "python",
   "name": "python3"
  },
  "language_info": {
   "codemirror_mode": {
    "name": "ipython",
    "version": 3
   },
   "file_extension": ".py",
   "mimetype": "text/x-python",
   "name": "python",
   "nbconvert_exporter": "python",
   "pygments_lexer": "ipython3",
   "version": "3.7.6"
  }
 },
 "nbformat": 4,
 "nbformat_minor": 4
}
